{
  "nbformat": 4,
  "nbformat_minor": 0,
  "metadata": {
    "colab": {
      "provenance": []
    },
    "kernelspec": {
      "name": "python3",
      "display_name": "Python 3"
    },
    "language_info": {
      "name": "python"
    }
  },
  "cells": [
    {
      "cell_type": "markdown",
      "source": [
        "## **Task 1: Load and preprocess the dataset**\n",
        "\n",
        "•\tImport the required libraries (NumPy and Matplotlib)\n",
        "\n",
        "•\tLoad the dataset (linearly separable) using the load_data() method\n",
        "\n",
        "•\tNormalize the dataset by dividing the pixel values by 255\n",
        "\n",
        "•\tSplit the dataset into training and test sets using train_test_split() method.\n"
      ],
      "metadata": {
        "id": "qOcvw9YO2134"
      }
    },
    {
      "cell_type": "code",
      "execution_count": null,
      "metadata": {
        "id": "bxqf65px1WpZ"
      },
      "outputs": [],
      "source": [
        "import numpy as np\n",
        "import matplotlib.pyplot as plt\n",
        "import tensorflow as tf"
      ]
    },
    {
      "cell_type": "code",
      "source": [
        "# Load the MNIST dataset\n",
        "(X_train, y_train), (X_test, y_test) = tf.keras.datasets.mnist.load_data()"
      ],
      "metadata": {
        "id": "4YP8wxEB2Tzj"
      },
      "execution_count": null,
      "outputs": []
    },
    {
      "cell_type": "code",
      "source": [
        "# Normalize the dataset to scale pixel values between 0 and 1\n",
        "X_train = X_train / 255.0\n",
        "X_test = X_test / 255.0"
      ],
      "metadata": {
        "id": "mQ4A7rva5RB4"
      },
      "execution_count": null,
      "outputs": []
    },
    {
      "cell_type": "code",
      "source": [
        "# Print the shapes of normalized data arrays\n",
        "print(\"X_train shape:\", X_train.shape)\n",
        "print(\"X_test shape:\", X_test.shape)\n",
        "print(\"y_train shape:\", y_train.shape)\n",
        "print(\"y_test shape:\", y_test.shape)"
      ],
      "metadata": {
        "id": "VGWbr1nU5neD",
        "colab": {
          "base_uri": "https://localhost:8080/"
        },
        "outputId": "71656fdc-2017-4363-83f4-ae7714227f71"
      },
      "execution_count": null,
      "outputs": [
        {
          "output_type": "stream",
          "name": "stdout",
          "text": [
            "X_train shape: (60000, 28, 28)\n",
            "X_test shape: (10000, 28, 28)\n",
            "y_train shape: (60000,)\n",
            "y_test shape: (10000,)\n"
          ]
        }
      ]
    },
    {
      "cell_type": "markdown",
      "source": [
        "##**Task 2: Visualize the dataset**\n",
        "\n",
        "•\tVisualize some random images from the dataset using Matplotlib's imshow() method\n"
      ],
      "metadata": {
        "id": "jU6C14ry3a2e"
      }
    },
    {
      "cell_type": "code",
      "source": [
        "# Display some sample images\n",
        "fig, ax = plt.subplots(1, 5)\n",
        "for i in range(5):\n",
        "    ax[i].imshow(X_train[i], cmap='gray')\n",
        "    ax[i].set_title(f\"Label: {y_train[i]}\")\n",
        "plt.show()"
      ],
      "metadata": {
        "id": "HMRqBfpI6BWR",
        "colab": {
          "base_uri": "https://localhost:8080/",
          "height": 122
        },
        "outputId": "f4086c87-1dca-4dd3-de10-d50d84b3f4b2"
      },
      "execution_count": null,
      "outputs": [
        {
          "output_type": "display_data",
          "data": {
            "text/plain": [
              "<Figure size 432x288 with 5 Axes>"
            ],
            "image/png": "[encoded data removed]"
          },
          "metadata": {
            "needs_background": "light"
          }
        }
      ]
    },
    {
      "cell_type": "markdown",
      "source": [
        "##**Task 3: Implement the Simple Perceptron model**\n",
        "\n",
        "•\tDefine the Simple Perceptron model with a single layer of output nodes and no hidden layers\n",
        "\n",
        "•\tImplement the forward propagation algorithm to compute the output of the model\n",
        "\n",
        "•\tImplement the backward propagation algorithm to update the weights and bias term of the model\n",
        "\n",
        "•\tFor weight update, use the formula given below:\n",
        "\n",
        "` wᵢ = wᵢ + ∆wᵢ` \n",
        "\n",
        "Where\t`∆wᵢ  = η(t - o) xᵢ`\n",
        "\n",
        "Where:\n",
        "-\tt is actual value\n",
        "-\to is perceptron output\n",
        "-\tη is small constant (0.001) called learning rate\n"
      ],
      "metadata": {
        "id": "Nm0znPYP4Bt2"
      }
    },
    {
      "cell_type": "code",
      "source": [
        "# Find the indices of all data points where label is not 0 or 1\n",
        "train_indices_rmv = np.where((y_train != 0) & (y_train != 1))\n",
        "test_indices_rmv = np.where((y_test != 0) & (y_test != 1))\n",
        "\n",
        "# Remove these indices from all datasets since we are implementing a simple binary perceptron\n",
        "X_train = np.delete(X_train, train_indices_rmv, axis=0)\n",
        "y_train = np.delete(y_train, train_indices_rmv, axis=0)\n",
        "\n",
        "X_test = np.delete(X_test, test_indices_rmv, axis=0)\n",
        "y_test = np.delete(y_test, test_indices_rmv, axis=0)"
      ],
      "metadata": {
        "id": "3YOoQvuSaC1N"
      },
      "execution_count": null,
      "outputs": []
    },
    {
      "cell_type": "code",
      "source": [
        "# Flatten the images to convert them to 1D vector\n",
        "X_train = X_train.reshape(X_train.shape[0], -1)\n",
        "X_test = X_test.reshape(X_test.shape[0], -1)\n",
        "\n",
        "# Print the shapes of the flattened data arrays\n",
        "print(\"X_train shape:\", X_train.shape)\n",
        "print(\"X_test shape:\", X_test.shape)\n",
        "print(\"y_train shape:\", y_train.shape)\n",
        "print(\"y_test shape:\", y_test.shape)"
      ],
      "metadata": {
        "id": "poboo_8ag55g",
        "colab": {
          "base_uri": "https://localhost:8080/"
        },
        "outputId": "b7e3fc49-03e2-4d15-a650-8ab02aab8feb"
      },
      "execution_count": null,
      "outputs": [
        {
          "output_type": "stream",
          "name": "stdout",
          "text": [
            "X_train shape: (12665, 784)\n",
            "X_test shape: (2115, 784)\n",
            "y_train shape: (12665,)\n",
            "y_test shape: (2115,)\n"
          ]
        }
      ]
    },
    {
      "cell_type": "code",
      "source": [
        "def step_function(prediction):\n",
        "    \"\"\"\n",
        "    Returns 1 if prediction is greater than or equal to zero, otherwise returns 0\n",
        "    \"\"\"\n",
        "    if prediction >= 0:\n",
        "        return 1\n",
        "    return 0\n",
        "\n",
        "def predict(X, weights, bias):\n",
        "    \"\"\"\n",
        "    Returns binary classification based on the weighted sum of inputs\n",
        "    \"\"\"\n",
        "    # Calculate the weighted sum of inputs and add bias\n",
        "    prediction = np.dot(weights, X) + bias\n",
        "\n",
        "    # Apply the activation function\n",
        "    prediction = step_function(prediction)\n",
        "    return prediction"
      ],
      "metadata": {
        "id": "rhqzD9jociZU"
      },
      "execution_count": null,
      "outputs": []
    },
    {
      "cell_type": "code",
      "source": [
        "def forward_propagation(X, y, weights, bias):\n",
        "    \"\"\"\n",
        "    Returns predicted output, loss value, and derivative of the loss with respect to the predicted output.\n",
        "    \"\"\"\n",
        "\n",
        "    # Compute the predicted output for the given data point\n",
        "    y_pred = predict(X, weights, bias)\n",
        "\n",
        "    # Compute the loss for the given data point using mean squared error\n",
        "    loss = (y_pred - y) ** 2\n",
        "\n",
        "    # Compute the derivative of the loss with respect to the predicted output\n",
        "    d_loss = 2 * (y_pred - y)\n",
        "\n",
        "    return y_pred, loss, d_loss"
      ],
      "metadata": {
        "id": "ZQ6VhWCscmIr"
      },
      "execution_count": null,
      "outputs": []
    },
    {
      "cell_type": "code",
      "source": [
        "def backward_propagation(x, d_loss, y_true, y_pred, weights, bias, learning_rate):\n",
        "    \"\"\"\n",
        "    Returns updated weights and bias after backward propagation.\n",
        "    \"\"\"\n",
        "\n",
        "    # Compute the change in weights based on the derivative of the loss\n",
        "    delta_weights = learning_rate * (y_true - y_pred) * x\n",
        "    \n",
        "    # Update the weights and bias of the model\n",
        "    weights = weights + delta_weights\n",
        "    bias = bias + learning_rate * (y_true - y_pred)\n",
        "    \n",
        "    return weights, bias"
      ],
      "metadata": {
        "id": "q0hPJRlEctWf"
      },
      "execution_count": null,
      "outputs": []
    },
    {
      "cell_type": "markdown",
      "source": [
        "##**Task 4: Train the Simple Perceptron model**\n",
        "\n",
        "•\tSet the number of epochs and the learning rate for the training process\n",
        "\n",
        "•\tIterate over the training examples and adjust the weights and bias term using the above equation\n"
      ],
      "metadata": {
        "id": "GkdJYR5s5KQe"
      }
    },
    {
      "cell_type": "code",
      "source": [
        "def train_perceptron(X, y, learning_rate):\n",
        "    \"\"\"\n",
        "    Trains the model using the input data and target values.\n",
        "    Returns weights, bias of the trained perceptron model and list of mean squared errors for each epoch during training.\n",
        "    \"\"\"\n",
        "    \n",
        "    # Initialize variables\n",
        "    epoch = 0\n",
        "    error = 999\n",
        "    error_threshold = 9e-4\n",
        "    weights = np.random.rand(X.shape[1])\n",
        "    bias = np.random.rand()\n",
        "    errors = []\n",
        "    epochs = []\n",
        "    \n",
        "    # Train until stopping conditions are met\n",
        "    while epoch <= 10 and error > error_threshold:\n",
        "        \n",
        "        total_loss = 0\n",
        "        \n",
        "        # Loop over every data point\n",
        "        for i in range(X.shape[0]):\n",
        "            \n",
        "            # Forward Propagation on each data point\n",
        "            y_pred, loss, d_loss = forward_propagation(X[i], y[i], weights, bias)\n",
        "\n",
        "            # Backward propagation to update weight and bias\n",
        "            weights, bias = backward_propagation(X[i], d_loss, y[i], y_pred, weights, bias, learning_rate)\n",
        "            \n",
        "        # Evaluate the results\n",
        "        for i in range(X.shape[0]):\n",
        "            y_pred, loss, d_loss = forward_propagation(X[i], y[i], weights, bias)\n",
        "            total_loss += loss\n",
        "\n",
        "        errors.append(total_loss / X.shape[0])\n",
        "        epochs.append(epoch)\n",
        "        error = errors[-1]\n",
        "        epoch += 1\n",
        "\n",
        "        print(f'Epoch {epoch}. Loss: {errors[-1]}')\n",
        "        \n",
        "    return weights, bias, errors"
      ],
      "metadata": {
        "id": "lYJQAW5xcv26"
      },
      "execution_count": null,
      "outputs": []
    },
    {
      "cell_type": "code",
      "source": [
        "# Train the perceptron model using the training data\n",
        "# and obtain the optimized weights, bias and training errors\n",
        "weights, bias, errors = train_perceptron(X_train, y_train, learning_rate=0.001)"
      ],
      "metadata": {
        "colab": {
          "base_uri": "https://localhost:8080/"
        },
        "id": "v34HpU7ZfCFW",
        "outputId": "69c9b5d6-047b-4d83-ce03-3c2a38af0aac"
      },
      "execution_count": null,
      "outputs": [
        {
          "output_type": "stream",
          "name": "stdout",
          "text": [
            "Epoch 1. Loss: 0.01626529806553494\n",
            "Epoch 2. Loss: 0.011054086063955783\n",
            "Epoch 3. Loss: 0.007895775759968417\n",
            "Epoch 4. Loss: 0.006553493880773786\n",
            "Epoch 5. Loss: 0.005527043031977891\n",
            "Epoch 6. Loss: 0.004895380971180419\n",
            "Epoch 7. Loss: 0.0043426766679826295\n",
            "Epoch 8. Loss: 0.0039478878799842085\n",
            "Epoch 9. Loss: 0.0036320568495854717\n",
            "Epoch 10. Loss: 0.0035530990919857876\n",
            "Epoch 11. Loss: 0.0035530990919857876\n"
          ]
        }
      ]
    },
    {
      "cell_type": "markdown",
      "source": [
        "##**Task 5: Evaluate the performance of the Simple Perceptron model on the test set**\n",
        "•\tCompute the accuracy of the Simple Perceptron model on the test set\n"
      ],
      "metadata": {
        "id": "qH_Cfxqe5Qja"
      }
    },
    {
      "cell_type": "code",
      "source": [
        "def calculate_accuracy(X_test, y_test, weights, bias):\n",
        "    \"\"\"\n",
        "    Returns accuracy of the model on the test set.\n",
        "    \"\"\"\n",
        "    \n",
        "    # Initialize True Positive, True Negative, False Positive and False Negative\n",
        "    true_positives, true_negatives, false_positives, false_negatives = 0, 0, 0, 0\n",
        "\n",
        "    # Loop over each sample and corresponding label in the test set\n",
        "    for sample, label in zip(X_test, y_test):\n",
        "\n",
        "        # Make a prediction using the perceptron model\n",
        "        prediction = predict(sample, weights, bias)\n",
        "\n",
        "        # Update counts for TP, TN, FP, and FN\n",
        "        if prediction == label:\n",
        "            if prediction == 1:\n",
        "                true_positives += 1\n",
        "            else:\n",
        "                true_negatives += 1\n",
        "        else:\n",
        "            if prediction == 1:\n",
        "                false_positives += 1\n",
        "            else:\n",
        "                false_negatives += 1\n",
        "\n",
        "    # Calculate accuracy using the counts\n",
        "    accuracy = (true_positives + true_negatives)/(true_positives + true_negatives + false_positives + false_negatives)\n",
        "    return accuracy"
      ],
      "metadata": {
        "id": "4rKlBGdwe0-u"
      },
      "execution_count": null,
      "outputs": []
    },
    {
      "cell_type": "code",
      "source": [
        "# Calculate the accuracy of the model on the test set.\n",
        "acc = calculate_accuracy(X_test, y_test, weights, bias)\n",
        "print(f'Accuracy: {acc*100:.2f}%')"
      ],
      "metadata": {
        "colab": {
          "base_uri": "https://localhost:8080/"
        },
        "id": "dHW_czEqgeWU",
        "outputId": "303c9af2-24d5-4961-9e90-ca1a985abbd9"
      },
      "execution_count": null,
      "outputs": [
        {
          "output_type": "stream",
          "name": "stdout",
          "text": [
            "Accuracy: 99.86%\n"
          ]
        }
      ]
    },
    {
      "cell_type": "markdown",
      "source": [
        "##**Task 6: Analysis on the results**\n",
        "•\tAre the accuracy scores satisfactory or not? If not, what measures can be taken to improve the accuracy scores? Please express your ideas in your own words.\n",
        "<br><br>\n",
        "> **Are the Accuracy Scores Satisfactory?**\n",
        "\n",
        "The binary digit classifier achieved an impressive accuracy score of **99.86%** on the test dataset. This means that the model was able to correctly classify **2112 images out of total 2115 images** provided to it, demonstrating its ability to learn the task and generalize its knowledge to new images. The accuracy score is a crucial metric to evaluate the performance of a machine learning model, and in this case, the high score reflects the model's precise differentiation between digits.\n",
        "<br><br>\n",
        "> **Analysing Perceptron's Decision Making**\n",
        "\n",
        "Our analysis of the optimized weights of the Perceptron provides us with valuable insights into how the model makes decisions. By converting the optimized weight vector into a 28x28 matrix, we were able to identify the pixels in the training images that the Perceptron considers most significant. We reached following conclusions:\n",
        "\n",
        "*   Perceptron's optimized weights show the shape of a zero, with the pixels that form the zero having a blackish hue. The negative weights of these pixels indicate their high absolute value, and when activated by a zero, they produce a negative result.\n",
        "\n",
        "*   Perceptron gives positive weights to the central pixels of the image, which correspond to the shape of a one. \n",
        "\n"
      ],
      "metadata": {
        "id": "NaqFyJjr5eJu"
      }
    },
    {
      "cell_type": "code",
      "source": [
        "# Resize the weights array to match the dimensions of the input images (28x28)\n",
        "weights.resize((28, 28))\n",
        "\n",
        "# Plot the weights as an image\n",
        "plt.imshow(weights, cmap='bone')\n",
        "plt.axis('off')\n",
        "plt.title('Perceptron Weights Visualization')\n",
        "plt.show()"
      ],
      "metadata": {
        "colab": {
          "base_uri": "https://localhost:8080/",
          "height": 264
        },
        "id": "_g8sEA-6kgBY",
        "outputId": "45e851d7-61b4-467c-c7fa-2f44addd084e"
      },
      "execution_count": null,
      "outputs": [
        {
          "output_type": "display_data",
          "data": {
            "text/plain": [
              "<Figure size 432x288 with 1 Axes>"
            ],
            "image/png": "[encoded data removed]"
          },
          "metadata": {
            "needs_background": "light"
          }
        }
      ]
    },
    {
      "cell_type": "markdown",
      "source": [
        "> **What Measures Can be Taken to Improve the Accuracy Scores?**\n",
        "\n",
        "While the accuracy score achieved were excellent, there are still some measures that can be taken to further improve the accuracy scores. Some of these measures include:\n",
        "\n",
        "* **Increasing the complexity of the model:** The current model is a simple single-layer Perceptron. By increasing the complexity of the model, such as adding more layers we may be able to further improve the accuracy score.\n",
        "\n",
        "* **Augmenting the dataset:** Data augmentation techniques can be used to generate additional training examples by applying transformations like rotation, scaling, and flipping to the existing images. This can increase the diversity of the training data and improve the model's ability to generalize.\n",
        "\n",
        "* **Tuning hyperparameters:** Hyperparameters such as learning rate can significantly impact the performance of a machine learning model. By tuning these hyperparameters, we may be able to further improve the accuracy score.\n",
        "<br><br>\n",
        "<hr>"
      ],
      "metadata": {
        "id": "IiHGE2xGIXpC"
      }
    }
  ]
}